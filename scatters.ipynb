{
 "cells": [
  {
   "cell_type": "code",
   "execution_count": 1,
   "metadata": {},
   "outputs": [
    {
     "name": "stderr",
     "output_type": "stream",
     "text": [
      "/is/sg2/sgoel/miniconda3/envs/diff/lib/python3.12/site-packages/tqdm/auto.py:21: TqdmWarning: IProgress not found. Please update jupyter and ipywidgets. See https://ipywidgets.readthedocs.io/en/stable/user_install.html\n",
      "  from .autonotebook import tqdm as notebook_tqdm\n"
     ]
    }
   ],
   "source": [
    "import pandas as pd\n",
    "import numpy as np\n",
    "import seaborn as sns\n",
    "import matplotlib.pyplot as plt\n",
    "from sklearn.linear_model import LinearRegression\n",
    "import os\n",
    "from metrics import get_jsd, get_kappa_mcqs, get_diffp, populate_preds, precomputed_accs, precomputed_diffs"
   ]
  },
  {
   "cell_type": "code",
   "execution_count": 2,
   "metadata": {},
   "outputs": [
    {
     "name": "stdout",
     "output_type": "stream",
     "text": [
      "Models: Llama-3.1-8B, Llama-3.1-8B\n"
     ]
    },
    {
     "name": "stdout",
     "output_type": "stream",
     "text": [
      "Error loading hellaswag predictions for mtype w2s in model pair (Llama-3.1-8B, Llama-3.1-8B)\n",
      "Error loading hellaswag predictions for mtype w2s in model pair (Llama-3.1-8B, Llama-3.1-8B)\n",
      "Models: Qwen2.5-0.5B, Llama-3.1-8B\n",
      "Error loading hellaswag predictions for mtype w2s in model pair (Qwen2.5-0.5B, Llama-3.1-8B)\n",
      "Error loading hellaswag predictions for mtype w2s in model pair (Qwen2.5-0.5B, Llama-3.1-8B)\n"
     ]
    },
    {
     "name": "stderr",
     "output_type": "stream",
     "text": [
      "Map: 100%|██████████| 1000/1000 [00:00<00:00, 8613.45 examples/s]\n",
      "Map: 100%|██████████| 1000/1000 [00:00<00:00, 8986.82 examples/s]\n",
      "Map: 100%|██████████| 1000/1000 [00:00<00:00, 5130.96 examples/s]\n"
     ]
    },
    {
     "name": "stdout",
     "output_type": "stream",
     "text": [
      "Error loading mc_taco predictions for mtype strong_ft in model pair (Qwen2.5-0.5B, Llama-3.1-8B)\n",
      "Error loading mc_taco predictions for mtype strong_ft in model pair (Qwen2.5-0.5B, Llama-3.1-8B)\n"
     ]
    },
    {
     "name": "stderr",
     "output_type": "stream",
     "text": [
      "Map: 100%|██████████| 1000/1000 [00:00<00:00, 3551.01 examples/s]\n"
     ]
    },
    {
     "name": "stdout",
     "output_type": "stream",
     "text": [
      "Error loading quail predictions for mtype strong_base in model pair (Qwen2.5-0.5B, Llama-3.1-8B)\n",
      "Error loading quail predictions for mtype strong_base in model pair (Qwen2.5-0.5B, Llama-3.1-8B)\n",
      "Error loading quail predictions for mtype w2s in model pair (Qwen2.5-0.5B, Llama-3.1-8B)\n",
      "Error loading quail predictions for mtype w2s in model pair (Qwen2.5-0.5B, Llama-3.1-8B)\n",
      "Error loading quail predictions for mtype strong_ft in model pair (Qwen2.5-0.5B, Llama-3.1-8B)\n",
      "Error loading quail predictions for mtype strong_ft in model pair (Qwen2.5-0.5B, Llama-3.1-8B)\n"
     ]
    },
    {
     "name": "stderr",
     "output_type": "stream",
     "text": [
      "Map: 100%|██████████| 1000/1000 [00:00<00:00, 12358.40 examples/s]\n",
      "Map: 100%|██████████| 764/764 [00:00<00:00, 9133.88 examples/s]\n",
      "Map: 100%|██████████| 1000/1000 [00:00<00:00, 11201.51 examples/s]\n",
      "Map: 100%|██████████| 764/764 [00:00<00:00, 7060.88 examples/s]\n",
      "Map: 100%|██████████| 1000/1000 [00:00<00:00, 10848.20 examples/s]\n",
      "Map: 100%|██████████| 764/764 [00:00<00:00, 8047.54 examples/s]\n",
      "Map: 100%|██████████| 1000/1000 [00:00<00:00, 7494.22 examples/s]\n",
      "Map: 100%|██████████| 764/764 [00:00<00:00, 17058.00 examples/s]\n",
      "Map: 100%|██████████| 1000/1000 [00:00<00:00, 10429.10 examples/s]\n",
      "Map: 100%|██████████| 638/638 [00:00<00:00, 6976.38 examples/s]\n",
      "Map: 100%|██████████| 1000/1000 [00:00<00:00, 15112.05 examples/s]\n",
      "Map: 100%|██████████| 638/638 [00:00<00:00, 7437.85 examples/s]\n",
      "Map: 100%|██████████| 1000/1000 [00:00<00:00, 11932.11 examples/s]\n",
      "Map: 100%|██████████| 638/638 [00:00<00:00, 10062.18 examples/s]\n",
      "Map: 100%|██████████| 1000/1000 [00:00<00:00, 10317.18 examples/s]\n",
      "Map: 100%|██████████| 638/638 [00:00<00:00, 8113.02 examples/s]\n"
     ]
    },
    {
     "name": "stdout",
     "output_type": "stream",
     "text": [
      "Models: gemma-2-2b, Llama-3.1-8B\n"
     ]
    },
    {
     "name": "stderr",
     "output_type": "stream",
     "text": [
      "Map: 100%|██████████| 1000/1000 [00:00<00:00, 9396.60 examples/s]\n",
      "Map: 100%|██████████| 2646/2646 [00:00<00:00, 7987.79 examples/s]\n"
     ]
    },
    {
     "name": "stdout",
     "output_type": "stream",
     "text": [
      "Error loading cosmos_qa predictions for mtype strong_base in model pair (gemma-2-2b, Llama-3.1-8B)\n",
      "Error loading cosmos_qa predictions for mtype strong_base in model pair (gemma-2-2b, Llama-3.1-8B)\n",
      "Error loading cosmos_qa predictions for mtype w2s in model pair (gemma-2-2b, Llama-3.1-8B)\n",
      "Error loading cosmos_qa predictions for mtype w2s in model pair (gemma-2-2b, Llama-3.1-8B)\n",
      "Error loading cosmos_qa predictions for mtype strong_ft in model pair (gemma-2-2b, Llama-3.1-8B)\n",
      "Error loading cosmos_qa predictions for mtype strong_ft in model pair (gemma-2-2b, Llama-3.1-8B)\n"
     ]
    },
    {
     "name": "stderr",
     "output_type": "stream",
     "text": [
      "Map: 100%|██████████| 1000/1000 [00:00<00:00, 6906.19 examples/s]\n",
      "Map: 100%|██████████| 1984/1984 [00:00<00:00, 9009.29 examples/s]\n",
      "Map: 100%|██████████| 1000/1000 [00:00<00:00, 6043.76 examples/s]\n",
      "Map: 100%|██████████| 1984/1984 [00:00<00:00, 10209.11 examples/s]\n",
      "Map: 100%|██████████| 1000/1000 [00:00<00:00, 11618.67 examples/s]\n",
      "Map: 100%|██████████| 1984/1984 [00:00<00:00, 9009.43 examples/s]\n"
     ]
    },
    {
     "name": "stdout",
     "output_type": "stream",
     "text": [
      "Error loading dream predictions for mtype strong_ft in model pair (gemma-2-2b, Llama-3.1-8B)\n",
      "Error loading dream predictions for mtype strong_ft in model pair (gemma-2-2b, Llama-3.1-8B)\n"
     ]
    },
    {
     "name": "stderr",
     "output_type": "stream",
     "text": [
      "Map: 100%|██████████| 1000/1000 [00:00<00:00, 15326.53 examples/s]\n",
      "Map: 100%|██████████| 2458/2458 [00:00<00:00, 15587.38 examples/s]\n",
      "Map: 100%|██████████| 1000/1000 [00:00<00:00, 5205.61 examples/s]\n",
      "Map: 100%|██████████| 2458/2458 [00:00<00:00, 13400.91 examples/s]\n"
     ]
    },
    {
     "name": "stdout",
     "output_type": "stream",
     "text": [
      "Error loading mc_taco predictions for mtype strong_ft in model pair (gemma-2-2b, Llama-3.1-8B)\n",
      "Error loading mc_taco predictions for mtype strong_ft in model pair (gemma-2-2b, Llama-3.1-8B)\n"
     ]
    },
    {
     "name": "stderr",
     "output_type": "stream",
     "text": [
      "Map: 100%|██████████| 1000/1000 [00:00<00:00, 5759.71 examples/s]\n",
      "Map: 100%|██████████| 4150/4150 [00:00<00:00, 8099.67 examples/s]\n"
     ]
    },
    {
     "name": "stdout",
     "output_type": "stream",
     "text": [
      "Error loading multirc predictions for mtype strong_base in model pair (gemma-2-2b, Llama-3.1-8B)\n",
      "Error loading multirc predictions for mtype strong_base in model pair (gemma-2-2b, Llama-3.1-8B)\n",
      "Error loading multirc predictions for mtype w2s in model pair (gemma-2-2b, Llama-3.1-8B)\n",
      "Error loading multirc predictions for mtype w2s in model pair (gemma-2-2b, Llama-3.1-8B)\n",
      "Error loading multirc predictions for mtype strong_ft in model pair (gemma-2-2b, Llama-3.1-8B)\n",
      "Error loading multirc predictions for mtype strong_ft in model pair (gemma-2-2b, Llama-3.1-8B)\n"
     ]
    },
    {
     "name": "stderr",
     "output_type": "stream",
     "text": [
      "Map: 100%|██████████| 1000/1000 [00:00<00:00, 4875.30 examples/s]\n",
      "Map: 100%|██████████| 2148/2148 [00:00<00:00, 5477.02 examples/s]\n"
     ]
    },
    {
     "name": "stdout",
     "output_type": "stream",
     "text": [
      "Error loading quail predictions for mtype strong_base in model pair (gemma-2-2b, Llama-3.1-8B)\n",
      "Error loading quail predictions for mtype strong_base in model pair (gemma-2-2b, Llama-3.1-8B)\n",
      "Error loading quail predictions for mtype w2s in model pair (gemma-2-2b, Llama-3.1-8B)\n",
      "Error loading quail predictions for mtype w2s in model pair (gemma-2-2b, Llama-3.1-8B)\n",
      "Error loading quail predictions for mtype strong_ft in model pair (gemma-2-2b, Llama-3.1-8B)\n",
      "Error loading quail predictions for mtype strong_ft in model pair (gemma-2-2b, Llama-3.1-8B)\n"
     ]
    },
    {
     "name": "stderr",
     "output_type": "stream",
     "text": [
      "Map: 100%|██████████| 1000/1000 [00:00<00:00, 13766.76 examples/s]\n",
      "Map: 100%|██████████| 764/764 [00:00<00:00, 8564.79 examples/s]\n",
      "Map: 100%|██████████| 1000/1000 [00:00<00:00, 8526.64 examples/s]\n",
      "Map: 100%|██████████| 764/764 [00:00<00:00, 3787.76 examples/s]\n",
      "Map: 100%|██████████| 1000/1000 [00:00<00:00, 7994.94 examples/s]\n",
      "Map: 100%|██████████| 1888/1888 [00:00<00:00, 13697.34 examples/s]\n"
     ]
    },
    {
     "name": "stdout",
     "output_type": "stream",
     "text": [
      "Error loading social_i_qa predictions for mtype strong_base in model pair (gemma-2-2b, Llama-3.1-8B)\n",
      "Error loading social_i_qa predictions for mtype strong_base in model pair (gemma-2-2b, Llama-3.1-8B)\n",
      "Error loading social_i_qa predictions for mtype w2s in model pair (gemma-2-2b, Llama-3.1-8B)\n",
      "Error loading social_i_qa predictions for mtype w2s in model pair (gemma-2-2b, Llama-3.1-8B)\n",
      "Error loading social_i_qa predictions for mtype strong_ft in model pair (gemma-2-2b, Llama-3.1-8B)\n",
      "Error loading social_i_qa predictions for mtype strong_ft in model pair (gemma-2-2b, Llama-3.1-8B)\n"
     ]
    },
    {
     "name": "stderr",
     "output_type": "stream",
     "text": [
      "Map: 100%|██████████| 1000/1000 [00:00<00:00, 11652.88 examples/s]\n",
      "Map: 100%|██████████| 638/638 [00:00<00:00, 6867.26 examples/s]\n",
      "Map: 100%|██████████| 1000/1000 [00:00<00:00, 14118.67 examples/s]\n",
      "Map: 100%|██████████| 638/638 [00:00<00:00, 13978.24 examples/s]\n"
     ]
    },
    {
     "name": "stdout",
     "output_type": "stream",
     "text": [
      "Models: Qwen2.5-0.5B, gemma-2-9b\n",
      "Models: Llama-3.1-8B, gemma-2-9b\n",
      "Models: Llama-3.2-1B, Llama-3.1-8B\n"
     ]
    },
    {
     "name": "stderr",
     "output_type": "stream",
     "text": [
      "Map: 100%|██████████| 1000/1000 [00:00<00:00, 11825.93 examples/s]\n",
      "Map: 100%|██████████| 2646/2646 [00:00<00:00, 10434.42 examples/s]\n"
     ]
    },
    {
     "name": "stdout",
     "output_type": "stream",
     "text": [
      "Error loading cosmos_qa predictions for mtype strong_base in model pair (Llama-3.2-1B, Llama-3.1-8B)\n",
      "Error loading cosmos_qa predictions for mtype strong_base in model pair (Llama-3.2-1B, Llama-3.1-8B)\n",
      "Error loading cosmos_qa predictions for mtype w2s in model pair (Llama-3.2-1B, Llama-3.1-8B)\n",
      "Error loading cosmos_qa predictions for mtype w2s in model pair (Llama-3.2-1B, Llama-3.1-8B)\n",
      "Error loading cosmos_qa predictions for mtype strong_ft in model pair (Llama-3.2-1B, Llama-3.1-8B)\n",
      "Error loading cosmos_qa predictions for mtype strong_ft in model pair (Llama-3.2-1B, Llama-3.1-8B)\n"
     ]
    },
    {
     "name": "stderr",
     "output_type": "stream",
     "text": [
      "Map: 100%|██████████| 1000/1000 [00:00<00:00, 8363.13 examples/s]\n",
      "Map: 100%|██████████| 1984/1984 [00:00<00:00, 10469.88 examples/s]\n",
      "Map: 100%|██████████| 1000/1000 [00:00<00:00, 8948.78 examples/s]\n",
      "Map: 100%|██████████| 1984/1984 [00:00<00:00, 5871.42 examples/s]\n"
     ]
    },
    {
     "name": "stdout",
     "output_type": "stream",
     "text": [
      "Error loading dream predictions for mtype strong_ft in model pair (Llama-3.2-1B, Llama-3.1-8B)\n",
      "Error loading dream predictions for mtype strong_ft in model pair (Llama-3.2-1B, Llama-3.1-8B)\n"
     ]
    },
    {
     "name": "stderr",
     "output_type": "stream",
     "text": [
      "Map: 100%|██████████| 1000/1000 [00:00<00:00, 11745.30 examples/s]\n",
      "Map: 100%|██████████| 2458/2458 [00:00<00:00, 14758.23 examples/s]\n",
      "Map: 100%|██████████| 1000/1000 [00:00<00:00, 14352.16 examples/s]\n",
      "Map: 100%|██████████| 2458/2458 [00:00<00:00, 16642.59 examples/s]\n"
     ]
    },
    {
     "name": "stdout",
     "output_type": "stream",
     "text": [
      "Error loading mc_taco predictions for mtype strong_ft in model pair (Llama-3.2-1B, Llama-3.1-8B)\n",
      "Error loading mc_taco predictions for mtype strong_ft in model pair (Llama-3.2-1B, Llama-3.1-8B)\n"
     ]
    },
    {
     "name": "stderr",
     "output_type": "stream",
     "text": [
      "Map: 100%|██████████| 1000/1000 [00:00<00:00, 3832.19 examples/s]\n",
      "Map: 100%|██████████| 4150/4150 [00:00<00:00, 7933.16 examples/s]\n"
     ]
    },
    {
     "name": "stdout",
     "output_type": "stream",
     "text": [
      "Error loading multirc predictions for mtype strong_base in model pair (Llama-3.2-1B, Llama-3.1-8B)\n",
      "Error loading multirc predictions for mtype strong_base in model pair (Llama-3.2-1B, Llama-3.1-8B)\n",
      "Error loading multirc predictions for mtype w2s in model pair (Llama-3.2-1B, Llama-3.1-8B)\n",
      "Error loading multirc predictions for mtype w2s in model pair (Llama-3.2-1B, Llama-3.1-8B)\n",
      "Error loading multirc predictions for mtype strong_ft in model pair (Llama-3.2-1B, Llama-3.1-8B)\n",
      "Error loading multirc predictions for mtype strong_ft in model pair (Llama-3.2-1B, Llama-3.1-8B)\n"
     ]
    },
    {
     "name": "stderr",
     "output_type": "stream",
     "text": [
      "Map: 100%|██████████| 1000/1000 [00:00<00:00, 3658.97 examples/s]\n",
      "Map: 100%|██████████| 2148/2148 [00:00<00:00, 3833.88 examples/s]\n"
     ]
    },
    {
     "name": "stdout",
     "output_type": "stream",
     "text": [
      "Error loading quail predictions for mtype strong_base in model pair (Llama-3.2-1B, Llama-3.1-8B)\n",
      "Error loading quail predictions for mtype strong_base in model pair (Llama-3.2-1B, Llama-3.1-8B)\n",
      "Error loading quail predictions for mtype w2s in model pair (Llama-3.2-1B, Llama-3.1-8B)\n",
      "Error loading quail predictions for mtype w2s in model pair (Llama-3.2-1B, Llama-3.1-8B)\n",
      "Error loading quail predictions for mtype strong_ft in model pair (Llama-3.2-1B, Llama-3.1-8B)\n",
      "Error loading quail predictions for mtype strong_ft in model pair (Llama-3.2-1B, Llama-3.1-8B)\n"
     ]
    },
    {
     "name": "stderr",
     "output_type": "stream",
     "text": [
      "Map: 100%|██████████| 1000/1000 [00:00<00:00, 14345.53 examples/s]\n",
      "Map: 100%|██████████| 764/764 [00:00<00:00, 12684.40 examples/s]\n",
      "Map: 100%|██████████| 1000/1000 [00:00<00:00, 8913.96 examples/s]\n",
      "Map: 100%|██████████| 764/764 [00:00<00:00, 7042.59 examples/s]\n",
      "Map: 100%|██████████| 1000/1000 [00:00<00:00, 11177.78 examples/s]\n",
      "Map: 100%|██████████| 1888/1888 [00:00<00:00, 9252.86 examples/s] \n"
     ]
    },
    {
     "name": "stdout",
     "output_type": "stream",
     "text": [
      "Error loading social_i_qa predictions for mtype strong_base in model pair (Llama-3.2-1B, Llama-3.1-8B)\n",
      "Error loading social_i_qa predictions for mtype strong_base in model pair (Llama-3.2-1B, Llama-3.1-8B)\n",
      "Error loading social_i_qa predictions for mtype w2s in model pair (Llama-3.2-1B, Llama-3.1-8B)\n",
      "Error loading social_i_qa predictions for mtype w2s in model pair (Llama-3.2-1B, Llama-3.1-8B)\n",
      "Error loading social_i_qa predictions for mtype strong_ft in model pair (Llama-3.2-1B, Llama-3.1-8B)\n",
      "Error loading social_i_qa predictions for mtype strong_ft in model pair (Llama-3.2-1B, Llama-3.1-8B)\n"
     ]
    },
    {
     "name": "stderr",
     "output_type": "stream",
     "text": [
      "Map: 100%|██████████| 1000/1000 [00:00<00:00, 10597.48 examples/s]\n",
      "Map: 100%|██████████| 638/638 [00:00<00:00, 9891.31 examples/s]\n",
      "Map: 100%|██████████| 1000/1000 [00:00<00:00, 13235.75 examples/s]\n",
      "Map: 100%|██████████| 638/638 [00:00<00:00, 13662.09 examples/s]\n"
     ]
    },
    {
     "name": "stdout",
     "output_type": "stream",
     "text": [
      "Models: SmolLM-1.7B, Llama-3.1-8B\n"
     ]
    },
    {
     "name": "stderr",
     "output_type": "stream",
     "text": [
      "Map: 100%|██████████| 1000/1000 [00:00<00:00, 9040.56 examples/s]\n",
      "Map: 100%|██████████| 2646/2646 [00:00<00:00, 8093.86 examples/s]\n"
     ]
    },
    {
     "name": "stdout",
     "output_type": "stream",
     "text": [
      "Error loading cosmos_qa predictions for mtype strong_base in model pair (SmolLM-1.7B, Llama-3.1-8B)\n",
      "Error loading cosmos_qa predictions for mtype strong_base in model pair (SmolLM-1.7B, Llama-3.1-8B)\n",
      "Error loading cosmos_qa predictions for mtype w2s in model pair (SmolLM-1.7B, Llama-3.1-8B)\n",
      "Error loading cosmos_qa predictions for mtype w2s in model pair (SmolLM-1.7B, Llama-3.1-8B)\n",
      "Error loading cosmos_qa predictions for mtype strong_ft in model pair (SmolLM-1.7B, Llama-3.1-8B)\n",
      "Error loading cosmos_qa predictions for mtype strong_ft in model pair (SmolLM-1.7B, Llama-3.1-8B)\n"
     ]
    },
    {
     "name": "stderr",
     "output_type": "stream",
     "text": [
      "Map: 100%|██████████| 1000/1000 [00:00<00:00, 7887.53 examples/s]\n",
      "Map: 100%|██████████| 1984/1984 [00:00<00:00, 10820.14 examples/s]\n",
      "Map: 100%|██████████| 1000/1000 [00:00<00:00, 8012.59 examples/s]\n",
      "Map: 100%|██████████| 1984/1984 [00:00<00:00, 11544.51 examples/s]\n"
     ]
    },
    {
     "name": "stdout",
     "output_type": "stream",
     "text": [
      "Error loading dream predictions for mtype strong_ft in model pair (SmolLM-1.7B, Llama-3.1-8B)\n",
      "Error loading dream predictions for mtype strong_ft in model pair (SmolLM-1.7B, Llama-3.1-8B)\n"
     ]
    },
    {
     "name": "stderr",
     "output_type": "stream",
     "text": [
      "Map: 100%|██████████| 1000/1000 [00:00<00:00, 15624.74 examples/s]\n",
      "Map: 100%|██████████| 2458/2458 [00:00<00:00, 17622.16 examples/s]\n",
      "Map: 100%|██████████| 1000/1000 [00:00<00:00, 18785.37 examples/s]\n",
      "Map: 100%|██████████| 2458/2458 [00:00<00:00, 19948.26 examples/s]\n"
     ]
    },
    {
     "name": "stdout",
     "output_type": "stream",
     "text": [
      "Error loading mc_taco predictions for mtype strong_ft in model pair (SmolLM-1.7B, Llama-3.1-8B)\n",
      "Error loading mc_taco predictions for mtype strong_ft in model pair (SmolLM-1.7B, Llama-3.1-8B)\n"
     ]
    },
    {
     "name": "stderr",
     "output_type": "stream",
     "text": [
      "Map: 100%|██████████| 1000/1000 [00:00<00:00, 5107.45 examples/s]\n",
      "Map: 100%|██████████| 4150/4150 [00:00<00:00, 6579.38 examples/s]\n"
     ]
    },
    {
     "name": "stdout",
     "output_type": "stream",
     "text": [
      "Error loading multirc predictions for mtype strong_base in model pair (SmolLM-1.7B, Llama-3.1-8B)\n",
      "Error loading multirc predictions for mtype strong_base in model pair (SmolLM-1.7B, Llama-3.1-8B)\n",
      "Error loading multirc predictions for mtype w2s in model pair (SmolLM-1.7B, Llama-3.1-8B)\n",
      "Error loading multirc predictions for mtype w2s in model pair (SmolLM-1.7B, Llama-3.1-8B)\n",
      "Error loading multirc predictions for mtype strong_ft in model pair (SmolLM-1.7B, Llama-3.1-8B)\n",
      "Error loading multirc predictions for mtype strong_ft in model pair (SmolLM-1.7B, Llama-3.1-8B)\n"
     ]
    },
    {
     "name": "stderr",
     "output_type": "stream",
     "text": [
      "Map: 100%|██████████| 1000/1000 [00:00<00:00, 4609.55 examples/s]\n",
      "Map: 100%|██████████| 2148/2148 [00:00<00:00, 5361.01 examples/s]\n"
     ]
    },
    {
     "name": "stdout",
     "output_type": "stream",
     "text": [
      "Error loading quail predictions for mtype strong_base in model pair (SmolLM-1.7B, Llama-3.1-8B)\n",
      "Error loading quail predictions for mtype strong_base in model pair (SmolLM-1.7B, Llama-3.1-8B)\n",
      "Error loading quail predictions for mtype w2s in model pair (SmolLM-1.7B, Llama-3.1-8B)\n",
      "Error loading quail predictions for mtype w2s in model pair (SmolLM-1.7B, Llama-3.1-8B)\n",
      "Error loading quail predictions for mtype strong_ft in model pair (SmolLM-1.7B, Llama-3.1-8B)\n",
      "Error loading quail predictions for mtype strong_ft in model pair (SmolLM-1.7B, Llama-3.1-8B)\n"
     ]
    },
    {
     "name": "stderr",
     "output_type": "stream",
     "text": [
      "Map: 100%|██████████| 1000/1000 [00:00<00:00, 12951.62 examples/s]\n",
      "Map: 100%|██████████| 764/764 [00:00<00:00, 12634.59 examples/s]\n",
      "Map: 100%|██████████| 1000/1000 [00:00<00:00, 7793.50 examples/s]\n",
      "Map: 100%|██████████| 764/764 [00:00<00:00, 9257.18 examples/s]\n",
      "Map: 100%|██████████| 1000/1000 [00:00<00:00, 18492.91 examples/s]\n",
      "Map: 100%|██████████| 1888/1888 [00:00<00:00, 16691.78 examples/s]\n"
     ]
    },
    {
     "name": "stdout",
     "output_type": "stream",
     "text": [
      "Error loading social_i_qa predictions for mtype strong_base in model pair (SmolLM-1.7B, Llama-3.1-8B)\n",
      "Error loading social_i_qa predictions for mtype strong_base in model pair (SmolLM-1.7B, Llama-3.1-8B)\n",
      "Error loading social_i_qa predictions for mtype w2s in model pair (SmolLM-1.7B, Llama-3.1-8B)\n",
      "Error loading social_i_qa predictions for mtype w2s in model pair (SmolLM-1.7B, Llama-3.1-8B)\n",
      "Error loading social_i_qa predictions for mtype strong_ft in model pair (SmolLM-1.7B, Llama-3.1-8B)\n",
      "Error loading social_i_qa predictions for mtype strong_ft in model pair (SmolLM-1.7B, Llama-3.1-8B)\n"
     ]
    },
    {
     "name": "stderr",
     "output_type": "stream",
     "text": [
      "Map: 100%|██████████| 1000/1000 [00:00<00:00, 9122.08 examples/s]\n",
      "Map: 100%|██████████| 638/638 [00:00<00:00, 6581.36 examples/s]\n",
      "Map: 100%|██████████| 1000/1000 [00:00<00:00, 19450.13 examples/s]\n",
      "Map: 100%|██████████| 638/638 [00:00<00:00, 15901.39 examples/s]\n"
     ]
    },
    {
     "name": "stdout",
     "output_type": "stream",
     "text": [
      "Models: gemma-2-9b, Llama-3.1-8B\n",
      "Models: phi-2, Llama-3.1-8B\n"
     ]
    },
    {
     "name": "stderr",
     "output_type": "stream",
     "text": [
      "Map: 100%|██████████| 1000/1000 [00:00<00:00, 10497.94 examples/s]\n",
      "Map: 100%|██████████| 2646/2646 [00:00<00:00, 14801.53 examples/s]\n"
     ]
    },
    {
     "name": "stdout",
     "output_type": "stream",
     "text": [
      "Error loading cosmos_qa predictions for mtype strong_base in model pair (phi-2, Llama-3.1-8B)\n",
      "Error loading cosmos_qa predictions for mtype strong_base in model pair (phi-2, Llama-3.1-8B)\n",
      "Error loading cosmos_qa predictions for mtype w2s in model pair (phi-2, Llama-3.1-8B)\n",
      "Error loading cosmos_qa predictions for mtype w2s in model pair (phi-2, Llama-3.1-8B)\n",
      "Error loading cosmos_qa predictions for mtype strong_ft in model pair (phi-2, Llama-3.1-8B)\n",
      "Error loading cosmos_qa predictions for mtype strong_ft in model pair (phi-2, Llama-3.1-8B)\n"
     ]
    },
    {
     "name": "stderr",
     "output_type": "stream",
     "text": [
      "Map: 100%|██████████| 1000/1000 [00:00<00:00, 8861.17 examples/s]\n",
      "Map: 100%|██████████| 1984/1984 [00:00<00:00, 10024.77 examples/s]\n",
      "Map: 100%|██████████| 1000/1000 [00:00<00:00, 6502.99 examples/s]\n",
      "Map: 100%|██████████| 1984/1984 [00:00<00:00, 10941.84 examples/s]\n"
     ]
    },
    {
     "name": "stdout",
     "output_type": "stream",
     "text": [
      "Error loading dream predictions for mtype strong_ft in model pair (phi-2, Llama-3.1-8B)\n",
      "Error loading dream predictions for mtype strong_ft in model pair (phi-2, Llama-3.1-8B)\n"
     ]
    },
    {
     "name": "stderr",
     "output_type": "stream",
     "text": [
      "Map: 100%|██████████| 1000/1000 [00:00<00:00, 12758.18 examples/s]\n",
      "Map: 100%|██████████| 2458/2458 [00:00<00:00, 13251.97 examples/s]\n",
      "Map: 100%|██████████| 1000/1000 [00:00<00:00, 15008.23 examples/s]\n",
      "Map: 100%|██████████| 2458/2458 [00:00<00:00, 8276.32 examples/s]\n"
     ]
    },
    {
     "name": "stdout",
     "output_type": "stream",
     "text": [
      "Error loading mc_taco predictions for mtype strong_ft in model pair (phi-2, Llama-3.1-8B)\n",
      "Error loading mc_taco predictions for mtype strong_ft in model pair (phi-2, Llama-3.1-8B)\n"
     ]
    },
    {
     "name": "stderr",
     "output_type": "stream",
     "text": [
      "Map: 100%|██████████| 1000/1000 [00:00<00:00, 5283.10 examples/s]\n",
      "Map: 100%|██████████| 4150/4150 [00:00<00:00, 9067.47 examples/s] \n"
     ]
    },
    {
     "name": "stdout",
     "output_type": "stream",
     "text": [
      "Error loading multirc predictions for mtype strong_base in model pair (phi-2, Llama-3.1-8B)\n",
      "Error loading multirc predictions for mtype strong_base in model pair (phi-2, Llama-3.1-8B)\n",
      "Error loading multirc predictions for mtype w2s in model pair (phi-2, Llama-3.1-8B)\n",
      "Error loading multirc predictions for mtype w2s in model pair (phi-2, Llama-3.1-8B)\n",
      "Error loading multirc predictions for mtype strong_ft in model pair (phi-2, Llama-3.1-8B)\n",
      "Error loading multirc predictions for mtype strong_ft in model pair (phi-2, Llama-3.1-8B)\n"
     ]
    },
    {
     "name": "stderr",
     "output_type": "stream",
     "text": [
      "Map: 100%|██████████| 1000/1000 [00:00<00:00, 4314.99 examples/s]\n",
      "Map: 100%|██████████| 2148/2148 [00:00<00:00, 6497.49 examples/s]\n"
     ]
    },
    {
     "name": "stdout",
     "output_type": "stream",
     "text": [
      "Error loading quail predictions for mtype strong_base in model pair (phi-2, Llama-3.1-8B)\n",
      "Error loading quail predictions for mtype strong_base in model pair (phi-2, Llama-3.1-8B)\n",
      "Error loading quail predictions for mtype w2s in model pair (phi-2, Llama-3.1-8B)\n",
      "Error loading quail predictions for mtype w2s in model pair (phi-2, Llama-3.1-8B)\n",
      "Error loading quail predictions for mtype strong_ft in model pair (phi-2, Llama-3.1-8B)\n",
      "Error loading quail predictions for mtype strong_ft in model pair (phi-2, Llama-3.1-8B)\n"
     ]
    },
    {
     "name": "stderr",
     "output_type": "stream",
     "text": [
      "Map: 100%|██████████| 1000/1000 [00:00<00:00, 12402.51 examples/s]\n",
      "Map: 100%|██████████| 764/764 [00:00<00:00, 13875.01 examples/s]\n",
      "Map: 100%|██████████| 1000/1000 [00:00<00:00, 9078.44 examples/s]\n",
      "Map: 100%|██████████| 764/764 [00:00<00:00, 13157.09 examples/s]\n",
      "Map: 100%|██████████| 1000/1000 [00:00<00:00, 14015.49 examples/s]\n",
      "Map: 100%|██████████| 1888/1888 [00:00<00:00, 6647.95 examples/s] \n"
     ]
    },
    {
     "name": "stdout",
     "output_type": "stream",
     "text": [
      "Error loading social_i_qa predictions for mtype strong_base in model pair (phi-2, Llama-3.1-8B)\n",
      "Error loading social_i_qa predictions for mtype strong_base in model pair (phi-2, Llama-3.1-8B)\n",
      "Error loading social_i_qa predictions for mtype w2s in model pair (phi-2, Llama-3.1-8B)\n",
      "Error loading social_i_qa predictions for mtype w2s in model pair (phi-2, Llama-3.1-8B)\n",
      "Error loading social_i_qa predictions for mtype strong_ft in model pair (phi-2, Llama-3.1-8B)\n",
      "Error loading social_i_qa predictions for mtype strong_ft in model pair (phi-2, Llama-3.1-8B)\n"
     ]
    },
    {
     "name": "stderr",
     "output_type": "stream",
     "text": [
      "Map: 100%|██████████| 1000/1000 [00:00<00:00, 9847.24 examples/s]\n",
      "Map: 100%|██████████| 638/638 [00:00<00:00, 13358.52 examples/s]\n",
      "Map: 100%|██████████| 1000/1000 [00:00<00:00, 12713.75 examples/s]\n",
      "Map: 100%|██████████| 638/638 [00:00<00:00, 9422.75 examples/s]\n"
     ]
    },
    {
     "name": "stdout",
     "output_type": "stream",
     "text": [
      "Models: Llama-3.2-1B, Qwen2.5-7B\n",
      "Models: Llama-3.2-1B, gemma-2-9b\n",
      "Models: Qwen2.5-0.5B, Qwen2.5-7B\n"
     ]
    },
    {
     "name": "stderr",
     "output_type": "stream",
     "text": [
      "Map: 100%|██████████| 1000/1000 [00:00<00:00, 9190.56 examples/s]\n",
      "Map: 100%|██████████| 2646/2646 [00:00<00:00, 14237.24 examples/s]\n"
     ]
    },
    {
     "name": "stdout",
     "output_type": "stream",
     "text": [
      "Error loading cosmos_qa predictions for mtype strong_base in model pair (Qwen2.5-0.5B, Qwen2.5-7B)\n",
      "Error loading cosmos_qa predictions for mtype strong_base in model pair (Qwen2.5-0.5B, Qwen2.5-7B)\n",
      "Error loading cosmos_qa predictions for mtype w2s in model pair (Qwen2.5-0.5B, Qwen2.5-7B)\n",
      "Error loading cosmos_qa predictions for mtype w2s in model pair (Qwen2.5-0.5B, Qwen2.5-7B)\n",
      "Error loading cosmos_qa predictions for mtype strong_ft in model pair (Qwen2.5-0.5B, Qwen2.5-7B)\n",
      "Error loading cosmos_qa predictions for mtype strong_ft in model pair (Qwen2.5-0.5B, Qwen2.5-7B)\n"
     ]
    },
    {
     "name": "stderr",
     "output_type": "stream",
     "text": [
      "Map: 100%|██████████| 1000/1000 [00:00<00:00, 8509.87 examples/s]\n",
      "Map: 100%|██████████| 1984/1984 [00:00<00:00, 11457.67 examples/s]\n",
      "Map: 100%|██████████| 1000/1000 [00:00<00:00, 6206.14 examples/s]\n",
      "Map: 100%|██████████| 1984/1984 [00:00<00:00, 10163.75 examples/s]\n",
      "Map: 100%|██████████| 1000/1000 [00:00<00:00, 6949.49 examples/s]\n",
      "Map: 100%|██████████| 1984/1984 [00:00<00:00, 9864.17 examples/s]\n"
     ]
    },
    {
     "name": "stdout",
     "output_type": "stream",
     "text": [
      "Error loading dream predictions for mtype strong_ft in model pair (Qwen2.5-0.5B, Qwen2.5-7B)\n",
      "Error loading dream predictions for mtype strong_ft in model pair (Qwen2.5-0.5B, Qwen2.5-7B)\n"
     ]
    },
    {
     "name": "stderr",
     "output_type": "stream",
     "text": [
      "Map: 100%|██████████| 1000/1000 [00:00<00:00, 5321.40 examples/s]\n",
      "Map: 100%|██████████| 4150/4150 [00:00<00:00, 6350.53 examples/s]\n"
     ]
    },
    {
     "name": "stdout",
     "output_type": "stream",
     "text": [
      "Error loading multirc predictions for mtype strong_base in model pair (Qwen2.5-0.5B, Qwen2.5-7B)\n",
      "Error loading multirc predictions for mtype strong_base in model pair (Qwen2.5-0.5B, Qwen2.5-7B)\n",
      "Error loading multirc predictions for mtype w2s in model pair (Qwen2.5-0.5B, Qwen2.5-7B)\n",
      "Error loading multirc predictions for mtype w2s in model pair (Qwen2.5-0.5B, Qwen2.5-7B)\n",
      "Error loading multirc predictions for mtype strong_ft in model pair (Qwen2.5-0.5B, Qwen2.5-7B)\n",
      "Error loading multirc predictions for mtype strong_ft in model pair (Qwen2.5-0.5B, Qwen2.5-7B)\n"
     ]
    },
    {
     "name": "stderr",
     "output_type": "stream",
     "text": [
      "Map: 100%|██████████| 1000/1000 [00:00<00:00, 11595.00 examples/s]\n",
      "Map: 100%|██████████| 764/764 [00:00<00:00, 10229.78 examples/s]\n",
      "Map: 100%|██████████| 1000/1000 [00:00<00:00, 18586.83 examples/s]\n",
      "Map: 100%|██████████| 764/764 [00:00<00:00, 10136.91 examples/s]\n",
      "Map: 100%|██████████| 1000/1000 [00:00<00:00, 10566.54 examples/s]\n",
      "Map: 100%|██████████| 764/764 [00:00<00:00, 10920.10 examples/s]\n",
      "Map: 100%|██████████| 1000/1000 [00:00<00:00, 14423.28 examples/s]\n",
      "Map: 100%|██████████| 1888/1888 [00:00<00:00, 16097.31 examples/s]\n"
     ]
    },
    {
     "name": "stdout",
     "output_type": "stream",
     "text": [
      "Error loading social_i_qa predictions for mtype strong_base in model pair (Qwen2.5-0.5B, Qwen2.5-7B)\n",
      "Error loading social_i_qa predictions for mtype strong_base in model pair (Qwen2.5-0.5B, Qwen2.5-7B)\n",
      "Error loading social_i_qa predictions for mtype w2s in model pair (Qwen2.5-0.5B, Qwen2.5-7B)\n",
      "Error loading social_i_qa predictions for mtype w2s in model pair (Qwen2.5-0.5B, Qwen2.5-7B)\n",
      "Error loading social_i_qa predictions for mtype strong_ft in model pair (Qwen2.5-0.5B, Qwen2.5-7B)\n",
      "Error loading social_i_qa predictions for mtype strong_ft in model pair (Qwen2.5-0.5B, Qwen2.5-7B)\n",
      "Models: SmolLM-1.7B, Qwen2.5-7B\n",
      "Models: SmolLM-1.7B, gemma-2-9b\n",
      "Models: gemma-2-2b, gemma-2-9b\n",
      "Models: phi-2, gemma-2-9b\n",
      "Models: gemma-2-2b, Qwen2.5-7B\n",
      "Models: phi-2, Qwen2.5-7B\n",
      "Models: Qwen2.5-0.5B, OLMo-2-1124-7B\n",
      "Error loading anli-r2 predictions for mtype strong_base in model pair (Qwen2.5-0.5B, OLMo-2-1124-7B)\n",
      "Error loading anli-r2 predictions for mtype strong_base in model pair (Qwen2.5-0.5B, OLMo-2-1124-7B)\n",
      "Error loading anli-r2 predictions for mtype w2s in model pair (Qwen2.5-0.5B, OLMo-2-1124-7B)\n",
      "Error loading anli-r2 predictions for mtype w2s in model pair (Qwen2.5-0.5B, OLMo-2-1124-7B)\n",
      "Error loading anli-r2 predictions for mtype strong_ft in model pair (Qwen2.5-0.5B, OLMo-2-1124-7B)\n",
      "Error loading anli-r2 predictions for mtype strong_ft in model pair (Qwen2.5-0.5B, OLMo-2-1124-7B)\n",
      "Error loading boolq predictions for mtype strong_base in model pair (Qwen2.5-0.5B, OLMo-2-1124-7B)\n",
      "Error loading boolq predictions for mtype strong_base in model pair (Qwen2.5-0.5B, OLMo-2-1124-7B)\n",
      "Error loading boolq predictions for mtype w2s in model pair (Qwen2.5-0.5B, OLMo-2-1124-7B)\n",
      "Error loading boolq predictions for mtype w2s in model pair (Qwen2.5-0.5B, OLMo-2-1124-7B)\n",
      "Error loading boolq predictions for mtype strong_ft in model pair (Qwen2.5-0.5B, OLMo-2-1124-7B)\n",
      "Error loading boolq predictions for mtype strong_ft in model pair (Qwen2.5-0.5B, OLMo-2-1124-7B)\n",
      "Error loading cola predictions for mtype strong_base in model pair (Qwen2.5-0.5B, OLMo-2-1124-7B)\n",
      "Error loading cola predictions for mtype strong_base in model pair (Qwen2.5-0.5B, OLMo-2-1124-7B)\n",
      "Error loading cola predictions for mtype w2s in model pair (Qwen2.5-0.5B, OLMo-2-1124-7B)\n",
      "Error loading cola predictions for mtype w2s in model pair (Qwen2.5-0.5B, OLMo-2-1124-7B)\n",
      "Error loading cola predictions for mtype strong_ft in model pair (Qwen2.5-0.5B, OLMo-2-1124-7B)\n",
      "Error loading cola predictions for mtype strong_ft in model pair (Qwen2.5-0.5B, OLMo-2-1124-7B)\n",
      "Error loading ethics-utilitarianism predictions for mtype strong_base in model pair (Qwen2.5-0.5B, OLMo-2-1124-7B)\n",
      "Error loading ethics-utilitarianism predictions for mtype strong_base in model pair (Qwen2.5-0.5B, OLMo-2-1124-7B)\n",
      "Error loading ethics-utilitarianism predictions for mtype w2s in model pair (Qwen2.5-0.5B, OLMo-2-1124-7B)\n",
      "Error loading ethics-utilitarianism predictions for mtype w2s in model pair (Qwen2.5-0.5B, OLMo-2-1124-7B)\n",
      "Error loading ethics-utilitarianism predictions for mtype strong_ft in model pair (Qwen2.5-0.5B, OLMo-2-1124-7B)\n",
      "Error loading ethics-utilitarianism predictions for mtype strong_ft in model pair (Qwen2.5-0.5B, OLMo-2-1124-7B)\n",
      "Error loading piqa predictions for mtype strong_base in model pair (Qwen2.5-0.5B, OLMo-2-1124-7B)\n",
      "Error loading piqa predictions for mtype strong_base in model pair (Qwen2.5-0.5B, OLMo-2-1124-7B)\n",
      "Error loading piqa predictions for mtype w2s in model pair (Qwen2.5-0.5B, OLMo-2-1124-7B)\n",
      "Error loading piqa predictions for mtype w2s in model pair (Qwen2.5-0.5B, OLMo-2-1124-7B)\n",
      "Error loading piqa predictions for mtype strong_ft in model pair (Qwen2.5-0.5B, OLMo-2-1124-7B)\n",
      "Error loading piqa predictions for mtype strong_ft in model pair (Qwen2.5-0.5B, OLMo-2-1124-7B)\n",
      "Error loading sciq predictions for mtype strong_base in model pair (Qwen2.5-0.5B, OLMo-2-1124-7B)\n",
      "Error loading sciq predictions for mtype strong_base in model pair (Qwen2.5-0.5B, OLMo-2-1124-7B)\n",
      "Error loading sciq predictions for mtype w2s in model pair (Qwen2.5-0.5B, OLMo-2-1124-7B)\n",
      "Error loading sciq predictions for mtype w2s in model pair (Qwen2.5-0.5B, OLMo-2-1124-7B)\n",
      "Error loading sciq predictions for mtype strong_ft in model pair (Qwen2.5-0.5B, OLMo-2-1124-7B)\n",
      "Error loading sciq predictions for mtype strong_ft in model pair (Qwen2.5-0.5B, OLMo-2-1124-7B)\n",
      "Error loading sst2 predictions for mtype strong_base in model pair (Qwen2.5-0.5B, OLMo-2-1124-7B)\n",
      "Error loading sst2 predictions for mtype strong_base in model pair (Qwen2.5-0.5B, OLMo-2-1124-7B)\n",
      "Error loading sst2 predictions for mtype w2s in model pair (Qwen2.5-0.5B, OLMo-2-1124-7B)\n",
      "Error loading sst2 predictions for mtype w2s in model pair (Qwen2.5-0.5B, OLMo-2-1124-7B)\n",
      "Error loading sst2 predictions for mtype strong_ft in model pair (Qwen2.5-0.5B, OLMo-2-1124-7B)\n",
      "Error loading sst2 predictions for mtype strong_ft in model pair (Qwen2.5-0.5B, OLMo-2-1124-7B)\n",
      "Error loading twitter-sentiment predictions for mtype strong_base in model pair (Qwen2.5-0.5B, OLMo-2-1124-7B)\n",
      "Error loading twitter-sentiment predictions for mtype strong_base in model pair (Qwen2.5-0.5B, OLMo-2-1124-7B)\n",
      "Error loading twitter-sentiment predictions for mtype w2s in model pair (Qwen2.5-0.5B, OLMo-2-1124-7B)\n",
      "Error loading twitter-sentiment predictions for mtype w2s in model pair (Qwen2.5-0.5B, OLMo-2-1124-7B)\n",
      "Error loading twitter-sentiment predictions for mtype strong_ft in model pair (Qwen2.5-0.5B, OLMo-2-1124-7B)\n",
      "Error loading twitter-sentiment predictions for mtype strong_ft in model pair (Qwen2.5-0.5B, OLMo-2-1124-7B)\n",
      "Models: Qwen2.5-0.5B, Qwen2.5-14B\n",
      "Error loading anli-r2 predictions for mtype strong_base in model pair (Qwen2.5-0.5B, Qwen2.5-14B)\n",
      "Error loading anli-r2 predictions for mtype strong_base in model pair (Qwen2.5-0.5B, Qwen2.5-14B)\n",
      "Error loading anli-r2 predictions for mtype w2s in model pair (Qwen2.5-0.5B, Qwen2.5-14B)\n",
      "Error loading anli-r2 predictions for mtype w2s in model pair (Qwen2.5-0.5B, Qwen2.5-14B)\n",
      "Error loading anli-r2 predictions for mtype strong_ft in model pair (Qwen2.5-0.5B, Qwen2.5-14B)\n",
      "Error loading anli-r2 predictions for mtype strong_ft in model pair (Qwen2.5-0.5B, Qwen2.5-14B)\n",
      "Error loading boolq predictions for mtype strong_base in model pair (Qwen2.5-0.5B, Qwen2.5-14B)\n",
      "Error loading boolq predictions for mtype strong_base in model pair (Qwen2.5-0.5B, Qwen2.5-14B)\n",
      "Error loading boolq predictions for mtype w2s in model pair (Qwen2.5-0.5B, Qwen2.5-14B)\n",
      "Error loading boolq predictions for mtype w2s in model pair (Qwen2.5-0.5B, Qwen2.5-14B)\n",
      "Error loading boolq predictions for mtype strong_ft in model pair (Qwen2.5-0.5B, Qwen2.5-14B)\n",
      "Error loading boolq predictions for mtype strong_ft in model pair (Qwen2.5-0.5B, Qwen2.5-14B)\n"
     ]
    },
    {
     "name": "stderr",
     "output_type": "stream",
     "text": [
      "Map: 100%|██████████| 1000/1000 [00:00<00:00, 12104.04 examples/s]\n",
      "Map: 100%|██████████| 644/644 [00:00<00:00, 18973.55 examples/s]\n",
      "Map: 100%|██████████| 1000/1000 [00:00<00:00, 4906.78 examples/s]\n",
      "Map: 100%|██████████| 644/644 [00:00<00:00, 11945.78 examples/s]\n"
     ]
    },
    {
     "name": "stdout",
     "output_type": "stream",
     "text": [
      "Error loading cola predictions for mtype strong_ft in model pair (Qwen2.5-0.5B, Qwen2.5-14B)\n",
      "Error loading cola predictions for mtype strong_ft in model pair (Qwen2.5-0.5B, Qwen2.5-14B)\n",
      "Error loading ethics-utilitarianism predictions for mtype strong_base in model pair (Qwen2.5-0.5B, Qwen2.5-14B)\n",
      "Error loading ethics-utilitarianism predictions for mtype strong_base in model pair (Qwen2.5-0.5B, Qwen2.5-14B)\n",
      "Error loading ethics-utilitarianism predictions for mtype w2s in model pair (Qwen2.5-0.5B, Qwen2.5-14B)\n",
      "Error loading ethics-utilitarianism predictions for mtype w2s in model pair (Qwen2.5-0.5B, Qwen2.5-14B)\n",
      "Error loading ethics-utilitarianism predictions for mtype strong_ft in model pair (Qwen2.5-0.5B, Qwen2.5-14B)\n",
      "Error loading ethics-utilitarianism predictions for mtype strong_ft in model pair (Qwen2.5-0.5B, Qwen2.5-14B)\n",
      "Error loading piqa predictions for mtype strong_base in model pair (Qwen2.5-0.5B, Qwen2.5-14B)\n",
      "Error loading piqa predictions for mtype strong_base in model pair (Qwen2.5-0.5B, Qwen2.5-14B)\n",
      "Error loading piqa predictions for mtype w2s in model pair (Qwen2.5-0.5B, Qwen2.5-14B)\n",
      "Error loading piqa predictions for mtype w2s in model pair (Qwen2.5-0.5B, Qwen2.5-14B)\n",
      "Error loading piqa predictions for mtype strong_ft in model pair (Qwen2.5-0.5B, Qwen2.5-14B)\n",
      "Error loading piqa predictions for mtype strong_ft in model pair (Qwen2.5-0.5B, Qwen2.5-14B)\n",
      "Error loading sciq predictions for mtype strong_base in model pair (Qwen2.5-0.5B, Qwen2.5-14B)\n",
      "Error loading sciq predictions for mtype strong_base in model pair (Qwen2.5-0.5B, Qwen2.5-14B)\n",
      "Error loading sciq predictions for mtype w2s in model pair (Qwen2.5-0.5B, Qwen2.5-14B)\n",
      "Error loading sciq predictions for mtype w2s in model pair (Qwen2.5-0.5B, Qwen2.5-14B)\n",
      "Error loading sciq predictions for mtype strong_ft in model pair (Qwen2.5-0.5B, Qwen2.5-14B)\n",
      "Error loading sciq predictions for mtype strong_ft in model pair (Qwen2.5-0.5B, Qwen2.5-14B)\n",
      "Error loading sst2 predictions for mtype strong_base in model pair (Qwen2.5-0.5B, Qwen2.5-14B)\n",
      "Error loading sst2 predictions for mtype strong_base in model pair (Qwen2.5-0.5B, Qwen2.5-14B)\n",
      "Error loading sst2 predictions for mtype w2s in model pair (Qwen2.5-0.5B, Qwen2.5-14B)\n",
      "Error loading sst2 predictions for mtype w2s in model pair (Qwen2.5-0.5B, Qwen2.5-14B)\n",
      "Error loading sst2 predictions for mtype strong_ft in model pair (Qwen2.5-0.5B, Qwen2.5-14B)\n",
      "Error loading sst2 predictions for mtype strong_ft in model pair (Qwen2.5-0.5B, Qwen2.5-14B)\n",
      "Error loading twitter-sentiment predictions for mtype strong_base in model pair (Qwen2.5-0.5B, Qwen2.5-14B)\n",
      "Error loading twitter-sentiment predictions for mtype strong_base in model pair (Qwen2.5-0.5B, Qwen2.5-14B)\n",
      "Error loading twitter-sentiment predictions for mtype w2s in model pair (Qwen2.5-0.5B, Qwen2.5-14B)\n",
      "Error loading twitter-sentiment predictions for mtype w2s in model pair (Qwen2.5-0.5B, Qwen2.5-14B)\n",
      "Error loading twitter-sentiment predictions for mtype strong_ft in model pair (Qwen2.5-0.5B, Qwen2.5-14B)\n",
      "Error loading twitter-sentiment predictions for mtype strong_ft in model pair (Qwen2.5-0.5B, Qwen2.5-14B)\n",
      "Models: Qwen2.5-0.5B, gemma-2-27b\n",
      "Error loading anli-r2 predictions for mtype strong_base in model pair (Qwen2.5-0.5B, gemma-2-27b)\n",
      "Error loading anli-r2 predictions for mtype strong_base in model pair (Qwen2.5-0.5B, gemma-2-27b)\n",
      "Error loading anli-r2 predictions for mtype w2s in model pair (Qwen2.5-0.5B, gemma-2-27b)\n",
      "Error loading anli-r2 predictions for mtype w2s in model pair (Qwen2.5-0.5B, gemma-2-27b)\n",
      "Error loading anli-r2 predictions for mtype strong_ft in model pair (Qwen2.5-0.5B, gemma-2-27b)\n",
      "Error loading anli-r2 predictions for mtype strong_ft in model pair (Qwen2.5-0.5B, gemma-2-27b)\n",
      "Error loading boolq predictions for mtype strong_base in model pair (Qwen2.5-0.5B, gemma-2-27b)\n",
      "Error loading boolq predictions for mtype strong_base in model pair (Qwen2.5-0.5B, gemma-2-27b)\n",
      "Error loading boolq predictions for mtype w2s in model pair (Qwen2.5-0.5B, gemma-2-27b)\n",
      "Error loading boolq predictions for mtype w2s in model pair (Qwen2.5-0.5B, gemma-2-27b)\n",
      "Error loading boolq predictions for mtype strong_ft in model pair (Qwen2.5-0.5B, gemma-2-27b)\n",
      "Error loading boolq predictions for mtype strong_ft in model pair (Qwen2.5-0.5B, gemma-2-27b)\n",
      "Error loading cola predictions for mtype strong_base in model pair (Qwen2.5-0.5B, gemma-2-27b)\n",
      "Error loading cola predictions for mtype strong_base in model pair (Qwen2.5-0.5B, gemma-2-27b)\n",
      "Error loading cola predictions for mtype w2s in model pair (Qwen2.5-0.5B, gemma-2-27b)\n",
      "Error loading cola predictions for mtype w2s in model pair (Qwen2.5-0.5B, gemma-2-27b)\n",
      "Error loading cola predictions for mtype strong_ft in model pair (Qwen2.5-0.5B, gemma-2-27b)\n",
      "Error loading cola predictions for mtype strong_ft in model pair (Qwen2.5-0.5B, gemma-2-27b)\n",
      "Error loading ethics-utilitarianism predictions for mtype strong_base in model pair (Qwen2.5-0.5B, gemma-2-27b)\n",
      "Error loading ethics-utilitarianism predictions for mtype strong_base in model pair (Qwen2.5-0.5B, gemma-2-27b)\n",
      "Error loading ethics-utilitarianism predictions for mtype w2s in model pair (Qwen2.5-0.5B, gemma-2-27b)\n",
      "Error loading ethics-utilitarianism predictions for mtype w2s in model pair (Qwen2.5-0.5B, gemma-2-27b)\n",
      "Error loading ethics-utilitarianism predictions for mtype strong_ft in model pair (Qwen2.5-0.5B, gemma-2-27b)\n",
      "Error loading ethics-utilitarianism predictions for mtype strong_ft in model pair (Qwen2.5-0.5B, gemma-2-27b)\n",
      "Error loading piqa predictions for mtype strong_base in model pair (Qwen2.5-0.5B, gemma-2-27b)\n",
      "Error loading piqa predictions for mtype strong_base in model pair (Qwen2.5-0.5B, gemma-2-27b)\n",
      "Error loading piqa predictions for mtype w2s in model pair (Qwen2.5-0.5B, gemma-2-27b)\n",
      "Error loading piqa predictions for mtype w2s in model pair (Qwen2.5-0.5B, gemma-2-27b)\n",
      "Error loading piqa predictions for mtype strong_ft in model pair (Qwen2.5-0.5B, gemma-2-27b)\n",
      "Error loading piqa predictions for mtype strong_ft in model pair (Qwen2.5-0.5B, gemma-2-27b)\n",
      "Error loading sciq predictions for mtype strong_base in model pair (Qwen2.5-0.5B, gemma-2-27b)\n",
      "Error loading sciq predictions for mtype strong_base in model pair (Qwen2.5-0.5B, gemma-2-27b)\n",
      "Error loading sciq predictions for mtype w2s in model pair (Qwen2.5-0.5B, gemma-2-27b)\n",
      "Error loading sciq predictions for mtype w2s in model pair (Qwen2.5-0.5B, gemma-2-27b)\n",
      "Error loading sciq predictions for mtype strong_ft in model pair (Qwen2.5-0.5B, gemma-2-27b)\n",
      "Error loading sciq predictions for mtype strong_ft in model pair (Qwen2.5-0.5B, gemma-2-27b)\n",
      "Error loading sst2 predictions for mtype strong_base in model pair (Qwen2.5-0.5B, gemma-2-27b)\n",
      "Error loading sst2 predictions for mtype strong_base in model pair (Qwen2.5-0.5B, gemma-2-27b)\n",
      "Error loading sst2 predictions for mtype w2s in model pair (Qwen2.5-0.5B, gemma-2-27b)\n",
      "Error loading sst2 predictions for mtype w2s in model pair (Qwen2.5-0.5B, gemma-2-27b)\n",
      "Error loading sst2 predictions for mtype strong_ft in model pair (Qwen2.5-0.5B, gemma-2-27b)\n",
      "Error loading sst2 predictions for mtype strong_ft in model pair (Qwen2.5-0.5B, gemma-2-27b)\n",
      "Error loading twitter-sentiment predictions for mtype strong_base in model pair (Qwen2.5-0.5B, gemma-2-27b)\n",
      "Error loading twitter-sentiment predictions for mtype strong_base in model pair (Qwen2.5-0.5B, gemma-2-27b)\n",
      "Error loading twitter-sentiment predictions for mtype w2s in model pair (Qwen2.5-0.5B, gemma-2-27b)\n",
      "Error loading twitter-sentiment predictions for mtype w2s in model pair (Qwen2.5-0.5B, gemma-2-27b)\n",
      "Error loading twitter-sentiment predictions for mtype strong_ft in model pair (Qwen2.5-0.5B, gemma-2-27b)\n",
      "Error loading twitter-sentiment predictions for mtype strong_ft in model pair (Qwen2.5-0.5B, gemma-2-27b)\n",
      "Models: Qwen2.5-0.5B, granite-3.0-8b-base\n",
      "Error loading anli-r2 predictions for mtype strong_base in model pair (Qwen2.5-0.5B, granite-3.0-8b-base)\n",
      "Error loading anli-r2 predictions for mtype strong_base in model pair (Qwen2.5-0.5B, granite-3.0-8b-base)\n",
      "Error loading anli-r2 predictions for mtype w2s in model pair (Qwen2.5-0.5B, granite-3.0-8b-base)\n",
      "Error loading anli-r2 predictions for mtype w2s in model pair (Qwen2.5-0.5B, granite-3.0-8b-base)\n",
      "Error loading anli-r2 predictions for mtype strong_ft in model pair (Qwen2.5-0.5B, granite-3.0-8b-base)\n",
      "Error loading anli-r2 predictions for mtype strong_ft in model pair (Qwen2.5-0.5B, granite-3.0-8b-base)\n",
      "Error loading boolq predictions for mtype strong_base in model pair (Qwen2.5-0.5B, granite-3.0-8b-base)\n",
      "Error loading boolq predictions for mtype strong_base in model pair (Qwen2.5-0.5B, granite-3.0-8b-base)\n",
      "Error loading boolq predictions for mtype w2s in model pair (Qwen2.5-0.5B, granite-3.0-8b-base)\n",
      "Error loading boolq predictions for mtype w2s in model pair (Qwen2.5-0.5B, granite-3.0-8b-base)\n",
      "Error loading boolq predictions for mtype strong_ft in model pair (Qwen2.5-0.5B, granite-3.0-8b-base)\n",
      "Error loading boolq predictions for mtype strong_ft in model pair (Qwen2.5-0.5B, granite-3.0-8b-base)\n",
      "Error loading cola predictions for mtype strong_base in model pair (Qwen2.5-0.5B, granite-3.0-8b-base)\n",
      "Error loading cola predictions for mtype strong_base in model pair (Qwen2.5-0.5B, granite-3.0-8b-base)\n",
      "Error loading cola predictions for mtype w2s in model pair (Qwen2.5-0.5B, granite-3.0-8b-base)\n",
      "Error loading cola predictions for mtype w2s in model pair (Qwen2.5-0.5B, granite-3.0-8b-base)\n",
      "Error loading cola predictions for mtype strong_ft in model pair (Qwen2.5-0.5B, granite-3.0-8b-base)\n",
      "Error loading cola predictions for mtype strong_ft in model pair (Qwen2.5-0.5B, granite-3.0-8b-base)\n",
      "Error loading ethics-utilitarianism predictions for mtype strong_base in model pair (Qwen2.5-0.5B, granite-3.0-8b-base)\n",
      "Error loading ethics-utilitarianism predictions for mtype strong_base in model pair (Qwen2.5-0.5B, granite-3.0-8b-base)\n",
      "Error loading ethics-utilitarianism predictions for mtype w2s in model pair (Qwen2.5-0.5B, granite-3.0-8b-base)\n",
      "Error loading ethics-utilitarianism predictions for mtype w2s in model pair (Qwen2.5-0.5B, granite-3.0-8b-base)\n",
      "Error loading ethics-utilitarianism predictions for mtype strong_ft in model pair (Qwen2.5-0.5B, granite-3.0-8b-base)\n",
      "Error loading ethics-utilitarianism predictions for mtype strong_ft in model pair (Qwen2.5-0.5B, granite-3.0-8b-base)\n",
      "Error loading piqa predictions for mtype strong_base in model pair (Qwen2.5-0.5B, granite-3.0-8b-base)\n",
      "Error loading piqa predictions for mtype strong_base in model pair (Qwen2.5-0.5B, granite-3.0-8b-base)\n",
      "Error loading piqa predictions for mtype w2s in model pair (Qwen2.5-0.5B, granite-3.0-8b-base)\n",
      "Error loading piqa predictions for mtype w2s in model pair (Qwen2.5-0.5B, granite-3.0-8b-base)\n",
      "Error loading piqa predictions for mtype strong_ft in model pair (Qwen2.5-0.5B, granite-3.0-8b-base)\n",
      "Error loading piqa predictions for mtype strong_ft in model pair (Qwen2.5-0.5B, granite-3.0-8b-base)\n",
      "Error loading quartz predictions for mtype strong_base in model pair (Qwen2.5-0.5B, granite-3.0-8b-base)\n",
      "Error loading quartz predictions for mtype strong_base in model pair (Qwen2.5-0.5B, granite-3.0-8b-base)\n",
      "Error loading quartz predictions for mtype w2s in model pair (Qwen2.5-0.5B, granite-3.0-8b-base)\n",
      "Error loading quartz predictions for mtype w2s in model pair (Qwen2.5-0.5B, granite-3.0-8b-base)\n",
      "Error loading quartz predictions for mtype strong_ft in model pair (Qwen2.5-0.5B, granite-3.0-8b-base)\n",
      "Error loading quartz predictions for mtype strong_ft in model pair (Qwen2.5-0.5B, granite-3.0-8b-base)\n",
      "Error loading sciq predictions for mtype strong_base in model pair (Qwen2.5-0.5B, granite-3.0-8b-base)\n",
      "Error loading sciq predictions for mtype strong_base in model pair (Qwen2.5-0.5B, granite-3.0-8b-base)\n",
      "Error loading sciq predictions for mtype w2s in model pair (Qwen2.5-0.5B, granite-3.0-8b-base)\n",
      "Error loading sciq predictions for mtype w2s in model pair (Qwen2.5-0.5B, granite-3.0-8b-base)\n",
      "Error loading sciq predictions for mtype strong_ft in model pair (Qwen2.5-0.5B, granite-3.0-8b-base)\n",
      "Error loading sciq predictions for mtype strong_ft in model pair (Qwen2.5-0.5B, granite-3.0-8b-base)\n",
      "Error loading sst2 predictions for mtype strong_base in model pair (Qwen2.5-0.5B, granite-3.0-8b-base)\n",
      "Error loading sst2 predictions for mtype strong_base in model pair (Qwen2.5-0.5B, granite-3.0-8b-base)\n",
      "Error loading sst2 predictions for mtype w2s in model pair (Qwen2.5-0.5B, granite-3.0-8b-base)\n",
      "Error loading sst2 predictions for mtype w2s in model pair (Qwen2.5-0.5B, granite-3.0-8b-base)\n",
      "Error loading sst2 predictions for mtype strong_ft in model pair (Qwen2.5-0.5B, granite-3.0-8b-base)\n",
      "Error loading sst2 predictions for mtype strong_ft in model pair (Qwen2.5-0.5B, granite-3.0-8b-base)\n",
      "Error loading twitter-sentiment predictions for mtype strong_base in model pair (Qwen2.5-0.5B, granite-3.0-8b-base)\n",
      "Error loading twitter-sentiment predictions for mtype strong_base in model pair (Qwen2.5-0.5B, granite-3.0-8b-base)\n",
      "Error loading twitter-sentiment predictions for mtype w2s in model pair (Qwen2.5-0.5B, granite-3.0-8b-base)\n",
      "Error loading twitter-sentiment predictions for mtype w2s in model pair (Qwen2.5-0.5B, granite-3.0-8b-base)\n",
      "Error loading twitter-sentiment predictions for mtype strong_ft in model pair (Qwen2.5-0.5B, granite-3.0-8b-base)\n",
      "Error loading twitter-sentiment predictions for mtype strong_ft in model pair (Qwen2.5-0.5B, granite-3.0-8b-base)\n",
      "Models: gemma-2-2b, OLMo-2-1124-7B\n",
      "Error loading anli-r2 predictions for mtype strong_base in model pair (gemma-2-2b, OLMo-2-1124-7B)\n",
      "Error loading anli-r2 predictions for mtype strong_base in model pair (gemma-2-2b, OLMo-2-1124-7B)\n",
      "Error loading anli-r2 predictions for mtype w2s in model pair (gemma-2-2b, OLMo-2-1124-7B)\n",
      "Error loading anli-r2 predictions for mtype w2s in model pair (gemma-2-2b, OLMo-2-1124-7B)\n",
      "Error loading anli-r2 predictions for mtype strong_ft in model pair (gemma-2-2b, OLMo-2-1124-7B)\n",
      "Error loading anli-r2 predictions for mtype strong_ft in model pair (gemma-2-2b, OLMo-2-1124-7B)\n",
      "Error loading boolq predictions for mtype strong_base in model pair (gemma-2-2b, OLMo-2-1124-7B)\n",
      "Error loading boolq predictions for mtype strong_base in model pair (gemma-2-2b, OLMo-2-1124-7B)\n",
      "Error loading boolq predictions for mtype w2s in model pair (gemma-2-2b, OLMo-2-1124-7B)\n",
      "Error loading boolq predictions for mtype w2s in model pair (gemma-2-2b, OLMo-2-1124-7B)\n",
      "Error loading boolq predictions for mtype strong_ft in model pair (gemma-2-2b, OLMo-2-1124-7B)\n",
      "Error loading boolq predictions for mtype strong_ft in model pair (gemma-2-2b, OLMo-2-1124-7B)\n",
      "Error loading cola predictions for mtype strong_base in model pair (gemma-2-2b, OLMo-2-1124-7B)\n",
      "Error loading cola predictions for mtype strong_base in model pair (gemma-2-2b, OLMo-2-1124-7B)\n",
      "Error loading cola predictions for mtype w2s in model pair (gemma-2-2b, OLMo-2-1124-7B)\n",
      "Error loading cola predictions for mtype w2s in model pair (gemma-2-2b, OLMo-2-1124-7B)\n",
      "Error loading cola predictions for mtype strong_ft in model pair (gemma-2-2b, OLMo-2-1124-7B)\n",
      "Error loading cola predictions for mtype strong_ft in model pair (gemma-2-2b, OLMo-2-1124-7B)\n",
      "Error loading ethics-utilitarianism predictions for mtype strong_base in model pair (gemma-2-2b, OLMo-2-1124-7B)\n",
      "Error loading ethics-utilitarianism predictions for mtype strong_base in model pair (gemma-2-2b, OLMo-2-1124-7B)\n",
      "Error loading ethics-utilitarianism predictions for mtype w2s in model pair (gemma-2-2b, OLMo-2-1124-7B)\n",
      "Error loading ethics-utilitarianism predictions for mtype w2s in model pair (gemma-2-2b, OLMo-2-1124-7B)\n",
      "Error loading ethics-utilitarianism predictions for mtype strong_ft in model pair (gemma-2-2b, OLMo-2-1124-7B)\n",
      "Error loading ethics-utilitarianism predictions for mtype strong_ft in model pair (gemma-2-2b, OLMo-2-1124-7B)\n",
      "Error loading piqa predictions for mtype strong_base in model pair (gemma-2-2b, OLMo-2-1124-7B)\n",
      "Error loading piqa predictions for mtype strong_base in model pair (gemma-2-2b, OLMo-2-1124-7B)\n",
      "Error loading piqa predictions for mtype w2s in model pair (gemma-2-2b, OLMo-2-1124-7B)\n",
      "Error loading piqa predictions for mtype w2s in model pair (gemma-2-2b, OLMo-2-1124-7B)\n",
      "Error loading piqa predictions for mtype strong_ft in model pair (gemma-2-2b, OLMo-2-1124-7B)\n",
      "Error loading piqa predictions for mtype strong_ft in model pair (gemma-2-2b, OLMo-2-1124-7B)\n",
      "Error loading sciq predictions for mtype strong_base in model pair (gemma-2-2b, OLMo-2-1124-7B)\n",
      "Error loading sciq predictions for mtype strong_base in model pair (gemma-2-2b, OLMo-2-1124-7B)\n",
      "Error loading sciq predictions for mtype w2s in model pair (gemma-2-2b, OLMo-2-1124-7B)\n",
      "Error loading sciq predictions for mtype w2s in model pair (gemma-2-2b, OLMo-2-1124-7B)\n",
      "Error loading sciq predictions for mtype strong_ft in model pair (gemma-2-2b, OLMo-2-1124-7B)\n",
      "Error loading sciq predictions for mtype strong_ft in model pair (gemma-2-2b, OLMo-2-1124-7B)\n",
      "Error loading sst2 predictions for mtype strong_base in model pair (gemma-2-2b, OLMo-2-1124-7B)\n",
      "Error loading sst2 predictions for mtype strong_base in model pair (gemma-2-2b, OLMo-2-1124-7B)\n",
      "Error loading sst2 predictions for mtype w2s in model pair (gemma-2-2b, OLMo-2-1124-7B)\n",
      "Error loading sst2 predictions for mtype w2s in model pair (gemma-2-2b, OLMo-2-1124-7B)\n",
      "Error loading sst2 predictions for mtype strong_ft in model pair (gemma-2-2b, OLMo-2-1124-7B)\n",
      "Error loading sst2 predictions for mtype strong_ft in model pair (gemma-2-2b, OLMo-2-1124-7B)\n",
      "Error loading twitter-sentiment predictions for mtype strong_base in model pair (gemma-2-2b, OLMo-2-1124-7B)\n",
      "Error loading twitter-sentiment predictions for mtype strong_base in model pair (gemma-2-2b, OLMo-2-1124-7B)\n",
      "Error loading twitter-sentiment predictions for mtype w2s in model pair (gemma-2-2b, OLMo-2-1124-7B)\n",
      "Error loading twitter-sentiment predictions for mtype w2s in model pair (gemma-2-2b, OLMo-2-1124-7B)\n",
      "Error loading twitter-sentiment predictions for mtype strong_ft in model pair (gemma-2-2b, OLMo-2-1124-7B)\n",
      "Error loading twitter-sentiment predictions for mtype strong_ft in model pair (gemma-2-2b, OLMo-2-1124-7B)\n"
     ]
    }
   ],
   "source": [
    "preds_dict = {}\n",
    "folder_name = \"epochs_3\"\n",
    "model_names = [\"weak_ft\", \"strong_base\", \"w2s\", \"strong_ft\"]\n",
    "skip_list = []\n",
    "#iterate over folder names with ___ in results/{folder_name}\n",
    "for dir in os.listdir(f\"results/{folder_name}\"):\n",
    "    dir_path = f\"results/{folder_name}/{dir}\"\n",
    "    if os.path.isdir(dir_path) and \"___\" in dir:\n",
    "        weak_model, strong_model = dir.split(\"___\")\n",
    "        print(f\"Models: {weak_model}, {strong_model}\")\n",
    "        datasets = os.listdir(dir_path)\n",
    "        datasets = [d for d in datasets if d != \"plots\"]\n",
    "        datasplits = [\"val\", \"test\"]\n",
    "        preds = {}\n",
    "        preds = populate_preds(preds, datasets, model_names, datasplits, folder_name, weak_model, strong_model)\n",
    "        preds_dict[(weak_model, strong_model)] = preds        \n",
    "datasets = [\"anli-r2\", \"boolq\", \"cola\", \"ethics-utilitarianism\", \"sciq\", \"piqa\", \"sst2\", \"twitter-sentiment\"]"
   ]
  },
  {
   "cell_type": "code",
   "execution_count": 3,
   "metadata": {},
   "outputs": [
    {
     "name": "stdout",
     "output_type": "stream",
     "text": [
      "Qwen2.5-0.5B Llama-3.1-8B\n",
      "gemma-2-2b Llama-3.1-8B\n",
      "Qwen2.5-0.5B gemma-2-9b\n",
      "Llama-3.2-1B Llama-3.1-8B\n",
      "SmolLM-1.7B Llama-3.1-8B\n",
      "phi-2 Llama-3.1-8B\n",
      "Llama-3.2-1B Qwen2.5-7B\n",
      "Llama-3.2-1B gemma-2-9b\n",
      "Qwen2.5-0.5B Qwen2.5-7B\n",
      "SmolLM-1.7B Qwen2.5-7B\n",
      "SmolLM-1.7B gemma-2-9b\n",
      "gemma-2-2b gemma-2-9b\n"
     ]
    },
    {
     "name": "stdout",
     "output_type": "stream",
     "text": [
      "phi-2 gemma-2-9b\n",
      "gemma-2-2b Qwen2.5-7B\n",
      "phi-2 Qwen2.5-7B\n",
      "Qwen2.5-0.5B Llama-3.1-8B\n",
      "gemma-2-2b Llama-3.1-8B\n",
      "Qwen2.5-0.5B gemma-2-9b\n",
      "Llama-3.2-1B Llama-3.1-8B\n",
      "SmolLM-1.7B Llama-3.1-8B\n",
      "phi-2 Llama-3.1-8B\n",
      "Llama-3.2-1B Qwen2.5-7B\n",
      "Llama-3.2-1B gemma-2-9b\n",
      "Qwen2.5-0.5B Qwen2.5-7B\n",
      "SmolLM-1.7B Qwen2.5-7B\n",
      "SmolLM-1.7B gemma-2-9b\n",
      "gemma-2-2b gemma-2-9b\n",
      "phi-2 gemma-2-9b\n",
      "gemma-2-2b Qwen2.5-7B\n",
      "phi-2 Qwen2.5-7B\n",
      "Qwen2.5-0.5B Llama-3.1-8B\n",
      "gemma-2-2b Llama-3.1-8B\n",
      "Qwen2.5-0.5B gemma-2-9b\n",
      "Llama-3.2-1B Llama-3.1-8B\n",
      "SmolLM-1.7B Llama-3.1-8B\n",
      "phi-2 Llama-3.1-8B\n",
      "Llama-3.2-1B Qwen2.5-7B\n",
      "Llama-3.2-1B gemma-2-9b\n",
      "Qwen2.5-0.5B Qwen2.5-7B\n",
      "SmolLM-1.7B Qwen2.5-7B\n",
      "SmolLM-1.7B gemma-2-9b\n",
      "gemma-2-2b gemma-2-9b\n",
      "phi-2 gemma-2-9b\n",
      "gemma-2-2b Qwen2.5-7B\n",
      "phi-2 Qwen2.5-7B\n"
     ]
    }
   ],
   "source": [
    "# Updated loop to handle legend-based R^2 values\n",
    "skip_list = [(\"gemma-2-9b\", \"Llama-3.1-8B\"), (\"Llama-3.1-8B\", \"gemma-2-9b\"), (\"Llama-3.1-8B\", \"Llama-3.1-8B\"), (\"Qwen2.5-0.5B\", \"OLMo-2-1124-7B\"), (\"Qwen2.5-0.5B\", \"Qwen2.5-14B\"), (\"Qwen2.5-0.5B\", \"gemma-2-27b\"), (\"Qwen2.5-0.5B\", \"granite-3.0-8b-base\"), (\"gemma-2-2b\", \"OLMo-2-1124-7B\")]\n",
    "diffs_test = {}\n",
    "\n",
    "for metric_func, metric_name in zip([get_jsd, get_kappa_mcqs, get_diffp, _, _], [\"JSD\", \"Kappa\", \"Prediction Diff%\", \"Accuracy Gap\", \"Mag Accuracy Gap\"]):\n",
    "    diffs_test[metric_name] = {}\n",
    "    for (weak_model, strong_model), preds in preds_dict.items():\n",
    "        if (weak_model, strong_model) in skip_list:\n",
    "            continue\n",
    "        if \"Accuracy Gap\" in metric_name:\n",
    "            acc_test = {dset: precomputed_accs(preds, f\"{folder_name}/{weak_model}___{strong_model}\", dset, model_names, \"test\") for dset in datasets}\n",
    "            acc_val = {dset: precomputed_accs(preds, f\"{folder_name}/{weak_model}___{strong_model}\", dset, model_names, \"val\") for dset in datasets}\n",
    "            diffs_test[metric_name][(weak_model, strong_model)] = {dset: acc_val[dset][\"strong_base\"] - acc_val[dset][\"weak_ft\"] for dset in datasets}\n",
    "            if \"Mag\" in metric_name:\n",
    "                diffs_test[metric_name][(weak_model, strong_model)] = {dset: np.abs(v) for dset, v in diffs_test[metric_name][(weak_model, strong_model)].items()}\n",
    "            continue\n",
    "        print(weak_model, strong_model)\n",
    "        diffs_test[metric_name][(weak_model, strong_model)] = {dset : precomputed_diffs(preds, f\"{folder_name}/{weak_model}___{strong_model}\", dset, \"val\", metric_func, metric_name, \"weak_ft\", \"strong_base\") for dset in datasets}"
   ]
  },
  {
   "cell_type": "code",
   "execution_count": 13,
   "metadata": {},
   "outputs": [],
   "source": [
    "# Example model short form dictionary\n",
    "model_short_form = {\n",
    "    \"Llama-3.1-8B\": \"L.1-8\",\n",
    "    \"gemma-2-9b\": \"G-9\",\n",
    "    \"phi-2\": \"P-2.7\",\n",
    "    \"gemma-2-2b\": \"G-2\",\n",
    "    \"Qwen2.5-7B\": \"Q-7\",\n",
    "    \"Llama-3.2-1B\": \"L.2-1\",\n",
    "    \"Qwen2.5-0.5B\": \"Q-0.5\",\n",
    "    \"SmolLM-1.7B\": \"S-1.7\",\n",
    "    # Add more models as needed\n",
    "}\n",
    "\n",
    "# Define the metrics you want to compute\n",
    "metrics = {\n",
    "    \"JSD\": get_jsd,\n",
    "    \"Kappa\": get_kappa_mcqs,\n",
    "    \"Prediction Diff%\": get_diffp\n",
    "}\n",
    "\n",
    "# The base DataFrame columns you requested\n",
    "base_columns = [\n",
    "    \"WeakModel\", \"StrongModel\", \"Dataset\",\n",
    "    \"StrongBaseAcc\", \"WeakFtAcc\", \"W2SAcc\", \"StrongFtAcc\",\n",
    "    \"JSD\", \"Kappa\", \"DiffP\", \"MagGap\"\n",
    "]\n",
    "\n",
    "data_records = []"
   ]
  },
  {
   "cell_type": "code",
   "execution_count": 14,
   "metadata": {},
   "outputs": [
    {
     "name": "stdout",
     "output_type": "stream",
     "text": [
      "Processing Models: Qwen2.5-0.5B, Llama-3.1-8B\n",
      "Processing Models: gemma-2-2b, Llama-3.1-8B\n",
      "Processing Models: Qwen2.5-0.5B, gemma-2-9b\n",
      "Processing Models: Llama-3.2-1B, Llama-3.1-8B\n",
      "Processing Models: SmolLM-1.7B, Llama-3.1-8B\n",
      "Processing Models: phi-2, Llama-3.1-8B\n",
      "Processing Models: Llama-3.2-1B, Qwen2.5-7B\n",
      "Processing Models: Llama-3.2-1B, gemma-2-9b\n",
      "Processing Models: Qwen2.5-0.5B, Qwen2.5-7B\n",
      "Processing Models: SmolLM-1.7B, Qwen2.5-7B\n",
      "Processing Models: SmolLM-1.7B, gemma-2-9b\n",
      "Processing Models: gemma-2-2b, gemma-2-9b\n"
     ]
    },
    {
     "name": "stdout",
     "output_type": "stream",
     "text": [
      "Processing Models: phi-2, gemma-2-9b\n",
      "Processing Models: gemma-2-2b, Qwen2.5-7B\n",
      "Processing Models: phi-2, Qwen2.5-7B\n",
      "      WeakModel   StrongModel                Dataset  StrongBaseAcc  \\\n",
      "0  Qwen2.5-0.5B  Llama-3.1-8B                anli-r2      51.646707   \n",
      "1  Qwen2.5-0.5B  Llama-3.1-8B                  boolq      66.329830   \n",
      "2  Qwen2.5-0.5B  Llama-3.1-8B                   cola      71.273292   \n",
      "3  Qwen2.5-0.5B  Llama-3.1-8B  ethics-utilitarianism      61.929909   \n",
      "4  Qwen2.5-0.5B  Llama-3.1-8B                   sciq      84.865772   \n",
      "\n",
      "   WeakFtAcc     W2SAcc  StrongFtAcc       JSD     Kappa  DiffP  MagGap  \n",
      "0  57.934132  63.023952    72.904192  0.396236  0.221967  0.298    16.4  \n",
      "1  77.081649  83.346807    87.914309  0.314442  0.308393  0.318    11.4  \n",
      "2  77.018634  80.900621    80.900621  0.294555  0.307802  0.291     3.5  \n",
      "3  54.944791  67.858857    80.004801  0.286190  0.224145  0.320    14.0  \n",
      "4  83.657718  87.919463    93.120805  0.319845  0.332885  0.213     2.5  \n"
     ]
    }
   ],
   "source": [
    "# Build the unified DataFrame\n",
    "for (weak_model, strong_model), preds in preds_dict.items():\n",
    "    if (weak_model, strong_model) in skip_list:\n",
    "        continue\n",
    "    \n",
    "    print(f\"Processing Models: {weak_model}, {strong_model}\")\n",
    "    \n",
    "    # Compute accuracy dict for each dataset\n",
    "    acc_test = {\n",
    "        dset: precomputed_accs(\n",
    "            preds,\n",
    "            f\"{folder_name}/{weak_model}___{strong_model}\",\n",
    "            dset,\n",
    "            model_names,\n",
    "            \"test\"\n",
    "        )\n",
    "        for dset in datasets\n",
    "    }\n",
    "    \n",
    "    # Compute metric values for each dataset\n",
    "    # Assuming diffs_test is structured as: diffs_test[metric_name][(weak_model, strong_model)][dset]\n",
    "    for dset in datasets:\n",
    "        # Extract required accuracies\n",
    "        strong_base_acc = acc_test[dset][\"strong_base\"]\n",
    "        weak_ft_acc = acc_test[dset][\"weak_ft\"]\n",
    "        w2s_acc = acc_test[dset][\"w2s\"]\n",
    "        strong_ft_acc = acc_test[dset][\"strong_ft\"]\n",
    "        \n",
    "        # Compute metrics\n",
    "        # Make sure these metric functions accept the appropriate parameters.\n",
    "        # Typically, they might need predictions or something similar.\n",
    "        # Adjust the calls as needed based on how get_jsd, get_kappa_mcqs, get_diffp are defined.\n",
    "        jsd_value = diffs_test[\"JSD\"][(weak_model, strong_model)][dset]   # Example usage\n",
    "        kappa_value = diffs_test[\"Kappa\"][(weak_model, strong_model)][dset]\n",
    "        diffp_value = diffs_test[\"Prediction Diff%\"][(weak_model, strong_model)][dset]\n",
    "        maggap_value = diffs_test[\"Mag Accuracy Gap\"][(weak_model, strong_model)][dset]\n",
    "        \n",
    "        record = {\n",
    "            \"WeakModel\": weak_model,\n",
    "            \"StrongModel\": strong_model,\n",
    "            \"Dataset\": dset,\n",
    "            \"StrongBaseAcc\": strong_base_acc,\n",
    "            \"WeakFtAcc\": weak_ft_acc,\n",
    "            \"W2SAcc\": w2s_acc,\n",
    "            \"StrongFtAcc\": strong_ft_acc,\n",
    "            \"JSD\": jsd_value,\n",
    "            \"Kappa\": kappa_value,\n",
    "            \"DiffP\": diffp_value,\n",
    "            \"MagGap\": maggap_value\n",
    "        }\n",
    "        data_records.append(record)\n",
    "\n",
    "df_base = pd.DataFrame(data_records, columns=base_columns)\n",
    "\n",
    "# Now df_base is your unified DataFrame with all the requested base columns.\n",
    "print(df_base.head())"
   ]
  },
  {
   "cell_type": "code",
   "execution_count": 15,
   "metadata": {},
   "outputs": [],
   "source": [
    "def plot_scatter(df, x_col, y_col, groupbydataset=True, hue_col='Dataset', annotate_modelpairs=False, model_short_form=None, title=None):\n",
    "    plt.figure(figsize=(12, 8))\n",
    "    scatter = sns.scatterplot(\n",
    "        data=df,\n",
    "        x=x_col,\n",
    "        y=y_col,\n",
    "        hue=hue_col,\n",
    "        palette='tab10',\n",
    "        s=100,\n",
    "        alpha=0.8,\n",
    "        edgecolor='w',\n",
    "        linewidth=0.5\n",
    "    )\n",
    "    \n",
    "    # Add regression lines & R²\n",
    "    \n",
    "    r2_dict = {}\n",
    "    if groupbydataset:\n",
    "        for label in df[hue_col].unique():\n",
    "            label_df = df[df[hue_col] == label]\n",
    "            if len(label_df) < 2:\n",
    "                continue  # Can't fit a line if less than 2 points\n",
    "            sns.regplot(data=label_df, x=x_col, y=y_col, scatter=False, ci=None, line_kws={'linestyle': '--'})\n",
    "            \n",
    "            X = label_df[x_col].values.reshape(-1, 1)\n",
    "            Y = label_df[y_col].values\n",
    "            reg = LinearRegression().fit(X, Y)\n",
    "            r2 = reg.score(X, Y)\n",
    "            correlation = 'Positive' if reg.coef_[0] > 0 else 'Negative' if reg.coef_[0] < 0 else 'Zero'\n",
    "            r2_dict[label] = f\"{correlation} (R²={r2:.2f})\"\n",
    "    else:\n",
    "        sns.regplot(data=df, x=x_col, y=y_col, scatter=False, ci=None, line_kws={'linestyle': '--'})\n",
    "        \n",
    "        X = df[x_col].values.reshape(-1, 1)\n",
    "        Y = df[y_col].values\n",
    "        reg = LinearRegression().fit(X, Y)\n",
    "        r2 = reg.score(X, Y)\n",
    "        correlation = 'Positive' if reg.coef_[0] > 0 else 'Negative' if reg.coef_[0] < 0 else 'Zero'\n",
    "        r2_dict[hue_col] = f\"{correlation} (R²={r2:.2f})\"\n",
    "        print(r2)\n",
    "    \n",
    "    # Annotate model pairs if requested\n",
    "    if annotate_modelpairs and model_short_form is not None:\n",
    "        for _, row in df.iterrows():\n",
    "            weak_short = model_short_form.get(row['WeakModel'], row['WeakModel'])\n",
    "            strong_short = model_short_form.get(row['StrongModel'], row['StrongModel'])\n",
    "            annotation = f\"{weak_short}_{strong_short}\"\n",
    "            plt.text(\n",
    "                row[x_col],\n",
    "                row[y_col] + 0.1,\n",
    "                annotation,\n",
    "                fontsize=9,\n",
    "                ha='center',\n",
    "                va='bottom'\n",
    "            )\n",
    "    \n",
    "    # Update legend\n",
    "    handles, labels = scatter.get_legend_handles_labels()\n",
    "    new_labels = [f\"{label}: {r2_dict.get(label, '')}\" for label in labels]\n",
    "    plt.legend(\n",
    "        handles=handles,\n",
    "        labels=new_labels,\n",
    "        title=f'{hue_col} (with R²)',\n",
    "        fontsize=10,\n",
    "        title_fontsize=13,\n",
    "        loc='best'\n",
    "    )\n",
    "    \n",
    "    plt.xlabel(x_col, fontsize=14)\n",
    "    plt.ylabel(y_col, fontsize=14)\n",
    "    if title is not None:\n",
    "        plt.title(title, fontsize=16)\n",
    "    else:\n",
    "        plt.title(f\"{y_col} vs. {x_col}\", fontsize=16)\n",
    "    \n",
    "    plt.grid(True, linestyle='--', alpha=0.7)\n",
    "    plt.tight_layout()\n",
    "    plt.show()"
   ]
  },
  {
   "cell_type": "code",
   "execution_count": 16,
   "metadata": {},
   "outputs": [
    {
     "name": "stdout",
     "output_type": "stream",
     "text": [
      "0.5584770717194669\n"
     ]
    },
    {
     "data": {
      "image/png": "[encoded data removed]",
      "text/plain": [
       "<Figure size 1200x800 with 1 Axes>"
      ]
     },
     "metadata": {},
     "output_type": "display_data"
    }
   ],
   "source": [
    "df_base['mean_gain'] = df_base['W2SAcc'] - (df_base['WeakFtAcc'] + df_base['StrongBaseAcc']) / 2\n",
    "df_minus_piqa = df_base[df_base['Dataset'] != 'piqa']\n",
    "# df_base.plot.scatter(x='DiffP', y='mean_gain', hue='Dataset')\n",
    "plot_scatter(\n",
    "    df_minus_piqa,\n",
    "    x_col='MagGap',\n",
    "    y_col='mean_gain',\n",
    "    groupbydataset=False,\n",
    "    hue_col='Dataset',\n",
    "    annotate_modelpairs=False,\n",
    "    model_short_form=model_short_form,\n",
    "    title=\"Accuracy Gap vs. Mean Gain\"\n",
    ")"
   ]
  },
  {
   "cell_type": "code",
   "execution_count": null,
   "metadata": {},
   "outputs": [],
   "source": []
  }
 ],
 "metadata": {
  "kernelspec": {
   "display_name": "diff",
   "language": "python",
   "name": "python3"
  },
  "language_info": {
   "codemirror_mode": {
    "name": "ipython",
    "version": 3
   },
   "file_extension": ".py",
   "mimetype": "text/x-python",
   "name": "python",
   "nbconvert_exporter": "python",
   "pygments_lexer": "ipython3",
   "version": "3.12.4"
  }
 },
 "nbformat": 4,
 "nbformat_minor": 2
}
